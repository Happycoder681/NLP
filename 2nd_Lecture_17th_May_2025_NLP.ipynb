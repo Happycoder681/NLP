{
  "nbformat": 4,
  "nbformat_minor": 0,
  "metadata": {
    "colab": {
      "provenance": [],
      "gpuType": "T4",
      "collapsed_sections": [
        "60G026ShmEqb",
        "NhTZOZxdl4mk",
        "YE3eR6_eqMB0",
        "ei77EC5s1N-L",
        "8U10evQg4Pk8",
        "VEFTcadc-Lkm",
        "8uEXbhxqBvl1",
        "PMGOeiOcdBd9"
      ]
    },
    "kernelspec": {
      "name": "python3",
      "display_name": "Python 3"
    },
    "language_info": {
      "name": "python"
    },
    "accelerator": "GPU"
  },
  "cells": [
    {
      "cell_type": "code",
      "source": [
        "# word tokenization\n",
        "text = \"\"\"Founded in 2002, SpaceX’s mission is to enable humans to become a spacefaring civilization and a multi-planet\n",
        "species by building a self-sustaining city on Mars. In 2008, SpaceX’s Falcon 1 became the first privately developed\n",
        "liquid-fuel launch vehicle to orbit the Earth.\"\"\""
      ],
      "metadata": {
        "id": "3qX-SNM_cRDb"
      },
      "execution_count": null,
      "outputs": []
    },
    {
      "cell_type": "code",
      "source": [
        "print(text.split())  #\"all the words are sep on the basis of spaces\""
      ],
      "metadata": {
        "colab": {
          "base_uri": "https://localhost:8080/"
        },
        "id": "cyS2mmWwcrt6",
        "outputId": "fc9e3b2d-e88a-4010-923a-85544921241f"
      },
      "execution_count": null,
      "outputs": [
        {
          "output_type": "stream",
          "name": "stdout",
          "text": [
            "['Founded', 'in', '2002,', 'SpaceX’s', 'mission', 'is', 'to', 'enable', 'humans', 'to', 'become', 'a', 'spacefaring', 'civilization', 'and', 'a', 'multi-planet', 'species', 'by', 'building', 'a', 'self-sustaining', 'city', 'on', 'Mars.', 'In', '2008,', 'SpaceX’s', 'Falcon', '1', 'became', 'the', 'first', 'privately', 'developed', 'liquid-fuel', 'launch', 'vehicle', 'to', 'orbit', 'the', 'Earth.']\n"
          ]
        }
      ]
    },
    {
      "cell_type": "code",
      "source": [
        "print(text.split(\",\"))"
      ],
      "metadata": {
        "colab": {
          "base_uri": "https://localhost:8080/"
        },
        "id": "KbEBzAykczt6",
        "outputId": "31c0e9a2-28ee-4bd9-fb83-394a183097ca"
      },
      "execution_count": null,
      "outputs": [
        {
          "output_type": "stream",
          "name": "stdout",
          "text": [
            "['Founded in 2002', ' SpaceX’s mission is to enable humans to become a spacefaring civilization and a multi-planet\\nspecies by building a self-sustaining city on Mars. In 2008', ' SpaceX’s Falcon 1 became the first privately developed\\nliquid-fuel launch vehicle to orbit the Earth.']\n"
          ]
        }
      ]
    },
    {
      "cell_type": "code",
      "source": [
        "print(text.split(\".\"))"
      ],
      "metadata": {
        "colab": {
          "base_uri": "https://localhost:8080/"
        },
        "id": "kpwfMMckdhGK",
        "outputId": "4b7d417c-30af-490c-cd06-4ee635c48384"
      },
      "execution_count": null,
      "outputs": [
        {
          "output_type": "stream",
          "name": "stdout",
          "text": [
            "['Founded in 2002, SpaceX’s mission is to enable humans to become a spacefaring civilization and a multi-planet\\nspecies by building a self-sustaining city on Mars', ' In 2008, SpaceX’s Falcon 1 became the first privately developed\\nliquid-fuel launch vehicle to orbit the Earth', '']\n"
          ]
        }
      ]
    },
    {
      "cell_type": "code",
      "source": [
        "import re"
      ],
      "metadata": {
        "id": "qcb9IMBvdzGK"
      },
      "execution_count": null,
      "outputs": []
    },
    {
      "cell_type": "code",
      "source": [
        "pattern = \"[\\w]+\"\n",
        "tokens=re.findall(pattern,text)\n",
        "print(tokens)"
      ],
      "metadata": {
        "colab": {
          "base_uri": "https://localhost:8080/"
        },
        "id": "WBWU50sEd7J9",
        "outputId": "88dcfa59-bdf4-4f58-cf8d-03fb309531fb"
      },
      "execution_count": null,
      "outputs": [
        {
          "output_type": "stream",
          "name": "stdout",
          "text": [
            "['Founded', 'in', '2002', 'SpaceX', 's', 'mission', 'is', 'to', 'enable', 'humans', 'to', 'become', 'a', 'spacefaring', 'civilization', 'and', 'a', 'multi', 'planet', 'species', 'by', 'building', 'a', 'self', 'sustaining', 'city', 'on', 'Mars', 'In', '2008', 'SpaceX', 's', 'Falcon', '1', 'became', 'the', 'first', 'privately', 'developed', 'liquid', 'fuel', 'launch', 'vehicle', 'to', 'orbit', 'the', 'Earth']\n"
          ]
        }
      ]
    },
    {
      "cell_type": "code",
      "source": [
        "# senetence tokenization\n",
        "sentences=re.split(r'[.!?]+',text)\n",
        "print(sentences)"
      ],
      "metadata": {
        "colab": {
          "base_uri": "https://localhost:8080/"
        },
        "id": "9-566yTId7Qb",
        "outputId": "e6159037-e5e6-44b9-cbb9-79c97c47f0b2"
      },
      "execution_count": null,
      "outputs": [
        {
          "output_type": "stream",
          "name": "stdout",
          "text": [
            "['Founded in 2002, SpaceX’s mission is to enable humans to become a spacefaring civilization and a multi-planet\\nspecies by building a self-sustaining city on Mars', ' In 2008, SpaceX’s Falcon 1 became the first privately developed\\nliquid-fuel launch vehicle to orbit the Earth', '']\n"
          ]
        }
      ]
    },
    {
      "cell_type": "code",
      "source": [
        "text = \"\"\"This is the first sentence.\n",
        "However, some of the Ph.D. students are working with some\n",
        "researcher under Dr. and Scientists.\"\"\"\n",
        "sentences=re.split(r'[.!?]+',text)\n",
        "print(sentences)  #here the issue is with PhD, usme dot ka alag matlab h"
      ],
      "metadata": {
        "id": "MCk2BCAffZqq",
        "colab": {
          "base_uri": "https://localhost:8080/"
        },
        "outputId": "a30afce6-c231-4adb-f474-6178c13aaee9"
      },
      "execution_count": null,
      "outputs": [
        {
          "output_type": "stream",
          "name": "stdout",
          "text": [
            "['This is the first sentence', '\\nHowever, some of the Ph', 'D', ' students are working with some\\nresearcher under Dr', ' and Scientists', '']\n"
          ]
        }
      ]
    },
    {
      "cell_type": "markdown",
      "source": [
        "Since tokenization is a very crucial part there are certain libraries and tools developed for this task only. So we are not going to use regular expression or any other method instead the two widely used libraries like nltk (natural language toolkit) & spacy will be used."
      ],
      "metadata": {
        "id": "MZBXfH3Vg_e8"
      }
    },
    {
      "cell_type": "markdown",
      "source": [
        "## **Nltk**"
      ],
      "metadata": {
        "id": "60G026ShmEqb"
      }
    },
    {
      "cell_type": "code",
      "source": [
        "# nltk library\n",
        "# !pip install --user -U nltk"
      ],
      "metadata": {
        "id": "zKbrlygigb5r"
      },
      "execution_count": null,
      "outputs": []
    },
    {
      "cell_type": "code",
      "source": [
        "import nltk\n",
        "nltk.download('punkt')    # ==>This tokenizer divides a text into a list of sentences by using an unsupervised algorithm\n",
        "                                # to build a model for abbreviation and the words that starts sentences.\n",
        "nltk.download('wordnet')  # ==> Wordnet is a lexical database of English. It helps in finding conceptual relationship b/w words.\n",
        "nltk.download('stopwords')# ==> Stopwords can remove common words in English and help in word freqency analysis."
      ],
      "metadata": {
        "id": "KzdaVftCihab",
        "colab": {
          "base_uri": "https://localhost:8080/"
        },
        "outputId": "455620f9-b570-499e-baf4-78961e3cc682"
      },
      "execution_count": null,
      "outputs": [
        {
          "output_type": "stream",
          "name": "stderr",
          "text": [
            "[nltk_data] Downloading package punkt to /root/nltk_data...\n",
            "[nltk_data]   Unzipping tokenizers/punkt.zip.\n",
            "[nltk_data] Downloading package wordnet to /root/nltk_data...\n",
            "[nltk_data] Downloading package stopwords to /root/nltk_data...\n",
            "[nltk_data]   Unzipping corpora/stopwords.zip.\n"
          ]
        },
        {
          "output_type": "execute_result",
          "data": {
            "text/plain": [
              "True"
            ]
          },
          "metadata": {},
          "execution_count": 10
        }
      ]
    },
    {
      "cell_type": "code",
      "source": [
        "nltk.download('punkt_tab') # ==> This helps in downloading the punk tokenizer & models. It ensures that the NLTK has necessary data to perform\n",
        "# accurate sentence and word tokenization"
      ],
      "metadata": {
        "colab": {
          "base_uri": "https://localhost:8080/"
        },
        "id": "4ZIzxcsPi2Er",
        "outputId": "67a0e67a-be50-493a-f7c3-042e7c4b4bd6"
      },
      "execution_count": null,
      "outputs": [
        {
          "output_type": "stream",
          "name": "stderr",
          "text": [
            "[nltk_data] Downloading package punkt_tab to /root/nltk_data...\n",
            "[nltk_data]   Unzipping tokenizers/punkt_tab.zip.\n"
          ]
        },
        {
          "output_type": "execute_result",
          "data": {
            "text/plain": [
              "True"
            ]
          },
          "metadata": {},
          "execution_count": 11
        }
      ]
    },
    {
      "cell_type": "code",
      "source": [
        "text = \"\"\"Founded in 2002, SpaceX’s mission is to enable humans to become a spacefaring civilization and a multi-planet\n",
        "species by building a self-sustaining city on Mars. In 2008, SpaceX’s Falcon 1 became the first privately developed\n",
        "liquid-fuel launch vehicle to orbit the Earth.\"\"\""
      ],
      "metadata": {
        "id": "2Pl0IkhhkKtK"
      },
      "execution_count": null,
      "outputs": []
    },
    {
      "cell_type": "code",
      "source": [
        "from nltk.tokenize import word_tokenize\n",
        "tokens=word_tokenize(text)\n",
        "print(tokens)"
      ],
      "metadata": {
        "colab": {
          "base_uri": "https://localhost:8080/"
        },
        "id": "mRiwSeXZkr4b",
        "outputId": "321f223d-d525-4901-c7dc-2b4c9ad7e891"
      },
      "execution_count": null,
      "outputs": [
        {
          "output_type": "stream",
          "name": "stdout",
          "text": [
            "['Founded', 'in', '2002', ',', 'SpaceX', '’', 's', 'mission', 'is', 'to', 'enable', 'humans', 'to', 'become', 'a', 'spacefaring', 'civilization', 'and', 'a', 'multi-planet', 'species', 'by', 'building', 'a', 'self-sustaining', 'city', 'on', 'Mars', '.', 'In', '2008', ',', 'SpaceX', '’', 's', 'Falcon', '1', 'became', 'the', 'first', 'privately', 'developed', 'liquid-fuel', 'launch', 'vehicle', 'to', 'orbit', 'the', 'Earth', '.']\n"
          ]
        }
      ]
    },
    {
      "cell_type": "code",
      "source": [
        "from nltk.tokenize import sent_tokenize\n",
        "tokens=sent_tokenize(text)\n",
        "print(tokens)"
      ],
      "metadata": {
        "colab": {
          "base_uri": "https://localhost:8080/"
        },
        "id": "1brid5JWk6Db",
        "outputId": "c8d8cfbd-ab84-4038-cc18-3cd51c0c7603"
      },
      "execution_count": null,
      "outputs": [
        {
          "output_type": "stream",
          "name": "stdout",
          "text": [
            "['Founded in 2002, SpaceX’s mission is to enable humans to become a spacefaring civilization and a multi-planet\\nspecies by building a self-sustaining city on Mars.', 'In 2008, SpaceX’s Falcon 1 became the first privately developed\\nliquid-fuel launch vehicle to orbit the Earth.']\n"
          ]
        }
      ]
    },
    {
      "cell_type": "code",
      "source": [
        "text = \"\"\"This is the first sentence.\n",
        "However, some of the Ph.D. students are working with some\n",
        "researcher under Dr. and Scientists.\"\"\""
      ],
      "metadata": {
        "id": "KJD_o5g7lZU7"
      },
      "execution_count": null,
      "outputs": []
    },
    {
      "cell_type": "code",
      "source": [
        "from nltk.tokenize import sent_tokenize\n",
        "tokens=sent_tokenize(text)\n",
        "print(tokens)"
      ],
      "metadata": {
        "colab": {
          "base_uri": "https://localhost:8080/"
        },
        "id": "9K3A_IRVlmR6",
        "outputId": "91fb7887-07da-4b0b-9694-5c072365e703"
      },
      "execution_count": null,
      "outputs": [
        {
          "output_type": "stream",
          "name": "stdout",
          "text": [
            "['This is the first sentence.', 'However, some of the Ph.D. students are working with some\\nresearcher under Dr. and Scientists.']\n"
          ]
        }
      ]
    },
    {
      "cell_type": "markdown",
      "source": [
        "## **Spacy**"
      ],
      "metadata": {
        "id": "NhTZOZxdl4mk"
      }
    },
    {
      "cell_type": "code",
      "source": [
        "# !pip install spacy"
      ],
      "metadata": {
        "id": "netVf6eBl8YJ"
      },
      "execution_count": null,
      "outputs": []
    },
    {
      "cell_type": "code",
      "source": [
        "import spacy\n",
        "from spacy.lang.en import English\n",
        "nlp=English()\n",
        "text = \"\"\"Founded in 2002, SpaceX’s mission is to enable humans to become a spacefaring civilization and a multi-planet\n",
        "species by building a self-sustaining city on Mars. In 2008, SpaceX’s Falcon 1 became the first privately developed\n",
        "liquid-fuel launch vehicle to orbit the Earth.\"\"\"\n",
        "a=nlp(text)\n",
        "# print(\"a: \",a)\n",
        "token_list=[]\n",
        "for token in a:\n",
        "  token_list.append(token.text)\n",
        "print(token_list)"
      ],
      "metadata": {
        "colab": {
          "base_uri": "https://localhost:8080/"
        },
        "id": "Vjk0kvOcmAt6",
        "outputId": "6cf6c209-1587-427a-fc95-30d475fae34b"
      },
      "execution_count": null,
      "outputs": [
        {
          "output_type": "stream",
          "name": "stdout",
          "text": [
            "['Founded', 'in', '2002', ',', 'SpaceX', '’s', 'mission', 'is', 'to', 'enable', 'humans', 'to', 'become', 'a', 'spacefaring', 'civilization', 'and', 'a', 'multi', '-', 'planet', '\\n', 'species', 'by', 'building', 'a', 'self', '-', 'sustaining', 'city', 'on', 'Mars', '.', 'In', '2008', ',', 'SpaceX', '’s', 'Falcon', '1', 'became', 'the', 'first', 'privately', 'developed', '\\n', 'liquid', '-', 'fuel', 'launch', 'vehicle', 'to', 'orbit', 'the', 'Earth', '.']\n"
          ]
        }
      ]
    },
    {
      "cell_type": "code",
      "source": [
        "nlp=spacy.blank('en')  # loading a blank model\n",
        "nlp.add_pipe('sentencizer')  # Adding the senetnce parser\n",
        "text =\"\"\"Founded in 2002, SpaceX’s mission is to enable humans to become a spacefaring civilization and a multi-planet\n",
        "species by building a self-sustaining city on Mars. In 2008, SpaceX’s Falcon 1 became the first privately developed\n",
        "liquid-fuel launch vehicle to orbit the Earth.\"\"\"\n",
        "a = nlp(text)\n",
        "sent_list=[]\n",
        "for sent in a.sents:\n",
        "  sent_list.append(sent.text)\n",
        "\n",
        "print(sent_list)"
      ],
      "metadata": {
        "colab": {
          "base_uri": "https://localhost:8080/"
        },
        "id": "WzLw32ckpOQV",
        "outputId": "fefac06f-f2b1-4018-d40b-09a40e7aaae2"
      },
      "execution_count": null,
      "outputs": [
        {
          "output_type": "stream",
          "name": "stdout",
          "text": [
            "['Founded in 2002, SpaceX’s mission is to enable humans to become a spacefaring civilization and a multi-planet\\nspecies by building a self-sustaining city on Mars.', 'In 2008, SpaceX’s Falcon 1 became the first privately developed\\nliquid-fuel launch vehicle to orbit the Earth.']\n"
          ]
        }
      ]
    },
    {
      "cell_type": "code",
      "source": [
        "nlp=spacy.blank('en')  # loading a blank model\n",
        "nlp.add_pipe('sentencizer')  # Adding the senetnce parser\n",
        "text = \"\"\"This is the first sentence.\n",
        "However, some of the Ph.D. students are working with some\n",
        "researcher under Dr. and Scientists.\"\"\"\n",
        "a = nlp(text)\n",
        "sent_list=[]\n",
        "for sent in a.sents:\n",
        "  sent_list.append(sent.text)\n",
        "\n",
        "print(sent_list)"
      ],
      "metadata": {
        "colab": {
          "base_uri": "https://localhost:8080/"
        },
        "id": "A7TA39JZm2rr",
        "outputId": "f052a503-1e62-425d-8f7a-55cf6a10f284"
      },
      "execution_count": null,
      "outputs": [
        {
          "output_type": "stream",
          "name": "stdout",
          "text": [
            "['This is the first sentence.', '\\nHowever, some of the Ph.D. students are working with some\\nresearcher under Dr. and Scientists.']\n"
          ]
        }
      ]
    },
    {
      "cell_type": "markdown",
      "source": [
        "# **tokenization with Keras**"
      ],
      "metadata": {
        "id": "YE3eR6_eqMB0"
      }
    },
    {
      "cell_type": "code",
      "source": [
        "# !pip install keras\n",
        "# !pip install tensorflow"
      ],
      "metadata": {
        "id": "vTVGgBMMnrpU"
      },
      "execution_count": null,
      "outputs": []
    },
    {
      "cell_type": "code",
      "source": [
        "from tensorflow.keras.preprocessing.text import text_to_word_sequence\n",
        "text = \"\"\"Founded in 2002, SpaceX’s mission is to enable humans to become a spacefaring civilization and a multi-planet\n",
        "species by building a self-sustaining city on Mars. In 2008, SpaceX’s Falcon 1 became the first privately developed\n",
        "liquid-fuel launch vehicle to orbit the Earth.\"\"\"\n",
        "result = text_to_word_sequence(text)\n",
        "print(result)\n"
      ],
      "metadata": {
        "colab": {
          "base_uri": "https://localhost:8080/"
        },
        "id": "RXP0ZDcMnrtS",
        "outputId": "356ad36b-6f68-408b-ebdb-f8a3facfb670"
      },
      "execution_count": null,
      "outputs": [
        {
          "output_type": "stream",
          "name": "stdout",
          "text": [
            "['founded', 'in', '2002', 'spacex’s', 'mission', 'is', 'to', 'enable', 'humans', 'to', 'become', 'a', 'spacefaring', 'civilization', 'and', 'a', 'multi', 'planet', 'species', 'by', 'building', 'a', 'self', 'sustaining', 'city', 'on', 'mars', 'in', '2008', 'spacex’s', 'falcon', '1', 'became', 'the', 'first', 'privately', 'developed', 'liquid', 'fuel', 'launch', 'vehicle', 'to', 'orbit', 'the', 'earth']\n"
          ]
        }
      ]
    },
    {
      "cell_type": "markdown",
      "source": [
        "The advantage of keras is it converts all the words into lower case letter so APPLE apple both will be same and so their number mapping will be same. Keras does not have sentence_tokenizer."
      ],
      "metadata": {
        "id": "M5SyqL4MrAK8"
      }
    },
    {
      "cell_type": "markdown",
      "source": [
        "# **Stopwords Removal**\n",
        "Stopwords are the words in any language which does not add much meaning to a sentence and can be ignored without sacrificing the meaning of the entire sentence. The most common stopwords in a language are is, a the, etc. In nltk library we can import stopwords from nltk corpus where the stopwords are predefined."
      ],
      "metadata": {
        "id": "ei77EC5s1N-L"
      }
    },
    {
      "cell_type": "code",
      "source": [
        "import nltk\n",
        "from nltk.corpus import stopwords\n",
        "from nltk.tokenize import word_tokenize"
      ],
      "metadata": {
        "id": "Wq_GjQfpnr3W"
      },
      "execution_count": null,
      "outputs": []
    },
    {
      "cell_type": "code",
      "source": [
        "print(set(stopwords.words('english')))"
      ],
      "metadata": {
        "colab": {
          "base_uri": "https://localhost:8080/"
        },
        "id": "4ZDg_cOY1Jxt",
        "outputId": "819f039d-b833-4096-bf80-7d0c00092e8f"
      },
      "execution_count": null,
      "outputs": [
        {
          "output_type": "stream",
          "name": "stdout",
          "text": [
            "{'am', 'have', 'weren', 'our', 'had', 'wasn', 'needn', 'with', \"aren't\", 'i', 'ain', \"hasn't\", 'that', 'only', 'when', \"couldn't\", 'and', 'mightn', 'theirs', \"weren't\", \"we've\", 'what', \"you'd\", \"you'll\", 'is', 'before', 'her', 'how', 'once', 'll', 'doing', 'where', 'my', 'doesn', 'to', \"she'll\", 'him', 'on', 'do', 'shouldn', \"shan't\", 'because', 'she', \"didn't\", 'through', 'your', 'further', \"i'd\", 'off', 'yours', 'now', 'very', 'for', 'all', 'at', 'a', 'over', \"wasn't\", 'whom', 'nor', 's', 'up', 'most', \"we'd\", 'wouldn', 'into', 'myself', \"should've\", 'between', 'than', \"wouldn't\", 'again', 'in', \"i've\", 'be', 'too', 'yourself', 't', 'having', 'against', 'both', 'ours', 'out', 'will', 'you', 'aren', \"it'd\", 'this', 'yourselves', 'isn', \"won't\", 'being', \"it'll\", 'me', 'just', \"you're\", 'if', \"i'll\", 'itself', 'shan', 'who', \"she'd\", 'of', 'hasn', 'hadn', 'his', \"it's\", 'was', 'himself', 'hers', 'don', 'from', 'or', 'some', 'does', 'during', \"they've\", \"they'll\", 'we', \"we'll\", 'few', 'down', \"she's\", 'why', 'after', 'no', 'there', \"haven't\", 've', 'these', 'an', 'by', 'below', 'couldn', \"needn't\", 'themselves', 'until', 'more', 'such', \"that'll\", 'were', 'ma', 'as', \"isn't\", 'it', \"shouldn't\", 'should', 'other', 'under', 'd', 'the', \"he'll\", \"i'm\", 'each', \"they're\", 'are', 'those', 'did', 'them', 'didn', 'o', 'he', \"mightn't\", 'here', \"hadn't\", \"they'd\", 'herself', 'while', 'not', 'haven', 'they', 'which', 'about', 'its', 'has', 'same', 'then', \"don't\", \"doesn't\", \"you've\", 'mustn', 're', 'ourselves', 'their', 'y', \"he'd\", 'won', 'but', 'own', 'so', \"we're\", \"mustn't\", 'been', 'm', 'any', 'above', \"he's\", 'can'}\n"
          ]
        }
      ]
    },
    {
      "cell_type": "code",
      "source": [
        "from nltk.corpus import stopwords\n",
        "text2 = \"\"\"This is the first sentence.\n",
        "However, some of the Ph.D. students are working with some\n",
        "researcher under Dr. and Scientists.\"\"\"\n",
        "stopwords=set(stopwords.words('english'))\n",
        "tokens=word_tokenize(text2)\n",
        "filtered_sentence = []\n",
        "for w in tokens:\n",
        "  if w not in stopwords:\n",
        "    filtered_sentence.append(w)\n",
        "print(' '.join(filtered_sentence))\n",
        "print(\"\\n------------------------\\n\")\n",
        "print(text2)"
      ],
      "metadata": {
        "colab": {
          "base_uri": "https://localhost:8080/"
        },
        "id": "6jhAvkoT1J-D",
        "outputId": "624d5a7e-56ec-4824-bc22-6d7b3697e6fc"
      },
      "execution_count": null,
      "outputs": [
        {
          "output_type": "stream",
          "name": "stdout",
          "text": [
            "This first sentence . However , Ph.D. students working researcher Dr. Scientists .\n",
            "\n",
            "------------------------\n",
            "\n",
            "This is the first sentence.\n",
            "However, some of the Ph.D. students are working with some\n",
            "researcher under Dr. and Scientists.\n"
          ]
        }
      ]
    },
    {
      "cell_type": "markdown",
      "source": [
        "# **Spacy stopwords removal**"
      ],
      "metadata": {
        "id": "8U10evQg4Pk8"
      }
    },
    {
      "cell_type": "code",
      "source": [
        "from spacy.lang.en import English\n",
        "nlp=English()\n",
        "text = \"\"\"This is the first sentence.\n",
        "However, some of the Ph.D. students are working with some\n",
        "researcher under Dr. and Scientists.\"\"\"\n",
        "my_doc = nlp(text)\n",
        "token_list = []\n",
        "for token in my_doc:\n",
        "  token_list.append(token.text) # tokenization\n",
        "\n",
        "from spacy.lang.en.stop_words import STOP_WORDS\n",
        "filtered_sentence = []\n",
        "for word in token_list:\n",
        "  lexeme=nlp.vocab[word]\n",
        "  if lexeme.is_stop==False:\n",
        "    filtered_sentence.append(word)"
      ],
      "metadata": {
        "id": "Ak6XKHoX3ODq"
      },
      "execution_count": null,
      "outputs": []
    },
    {
      "cell_type": "code",
      "source": [
        "print(''.join(filtered_sentence))\n",
        "print(\"\\n------------------------\\n\")\n",
        "print(text2)"
      ],
      "metadata": {
        "colab": {
          "base_uri": "https://localhost:8080/"
        },
        "id": "4o28JEMf4vPb",
        "outputId": "fa58f6e3-172c-4549-e65b-fc5f04f4053e"
      },
      "execution_count": null,
      "outputs": [
        {
          "output_type": "stream",
          "name": "stdout",
          "text": [
            "sentence.\n",
            ",Ph.D.studentsworking\n",
            "researcherDr.Scientists.\n",
            "\n",
            "------------------------\n",
            "\n",
            "This is the first sentence.\n",
            "However, some of the Ph.D. students are working with some\n",
            "researcher under Dr. and Scientists.\n"
          ]
        }
      ]
    },
    {
      "cell_type": "markdown",
      "source": [
        "Stopwords are present very frequently in a sentence. The model thinks they are important instead they are just noise"
      ],
      "metadata": {
        "id": "Kb-rfBTd7BBO"
      }
    },
    {
      "cell_type": "markdown",
      "source": [
        "## **tokenization ke baad hota h punctuation removal**"
      ],
      "metadata": {
        "id": "4UArPNpq7UE8"
      }
    },
    {
      "cell_type": "code",
      "source": [
        "from string import punctuation\n",
        "punc = list(punctuation)\n",
        "print(punc)"
      ],
      "metadata": {
        "colab": {
          "base_uri": "https://localhost:8080/"
        },
        "id": "k5j0pfEV7Wnp",
        "outputId": "43bda9bf-52ca-48d5-a343-0846b2f380fd"
      },
      "execution_count": null,
      "outputs": [
        {
          "output_type": "stream",
          "name": "stdout",
          "text": [
            "['!', '\"', '#', '$', '%', '&', \"'\", '(', ')', '*', '+', ',', '-', '.', '/', ':', ';', '<', '=', '>', '?', '@', '[', '\\\\', ']', '^', '_', '`', '{', '|', '}', '~']\n"
          ]
        }
      ]
    },
    {
      "cell_type": "code",
      "source": [
        "from nltk.tokenize import word_tokenize\n",
        "text2 = \"\"\"This is the first sentence.\n",
        "However, some of the Ph.D. students are working with some\n",
        "researcher under Dr.s and Scientists.\"\"\"\n",
        "tokens=word_tokenize(text2)\n",
        "print(tokens)"
      ],
      "metadata": {
        "colab": {
          "base_uri": "https://localhost:8080/"
        },
        "id": "6Nq6ifXn7hCK",
        "outputId": "6bd295c9-fa80-474f-c643-a4119301e874"
      },
      "execution_count": null,
      "outputs": [
        {
          "output_type": "stream",
          "name": "stdout",
          "text": [
            "['This', 'is', 'the', 'first', 'sentence', '.', 'However', ',', 'some', 'of', 'the', 'Ph.D.', 'students', 'are', 'working', 'with', 'some', 'researcher', 'under', 'Dr.s', 'and', 'Scientists', '.']\n"
          ]
        }
      ]
    },
    {
      "cell_type": "code",
      "source": [
        "without_punc = [w for w in tokens if w not in punc]\n",
        "print(without_punc)\n",
        "print(\"\\n\")\n",
        "print(\" \".join(without_punc))"
      ],
      "metadata": {
        "colab": {
          "base_uri": "https://localhost:8080/"
        },
        "id": "b03BZ9WN77SK",
        "outputId": "91039b08-1ecb-4bbc-9825-c0f603a2fc4f"
      },
      "execution_count": null,
      "outputs": [
        {
          "output_type": "stream",
          "name": "stdout",
          "text": [
            "['This', 'is', 'the', 'first', 'sentence', 'However', 'some', 'of', 'the', 'Ph.D.', 'students', 'are', 'working', 'with', 'some', 'researcher', 'under', 'Dr.s', 'and', 'Scientists']\n",
            "\n",
            "\n",
            "This is the first sentence However some of the Ph.D. students are working with some researcher under Dr.s and Scientists\n"
          ]
        }
      ]
    },
    {
      "cell_type": "code",
      "source": [
        "from spacy.lang.en import English\n",
        "nlp=English()\n",
        "text = \"\"\"This is the first sentence.\n",
        "However, some of the Ph.D. students are working with some\n",
        "researcher under Dr. and Scientists.\"\"\"\n",
        "my_doc = nlp(text)\n",
        "token_list = []\n",
        "for token in my_doc:\n",
        "  token_list.append(token.text) # tokenization\n",
        "\n",
        "without_punc = [w for w in tokens if w not in punc]\n",
        "print(without_punc)\n",
        "print()\n",
        "print(\" \".join(without_punc))"
      ],
      "metadata": {
        "colab": {
          "base_uri": "https://localhost:8080/"
        },
        "id": "uzxBbcOS8rFK",
        "outputId": "028f0140-61da-4417-a301-f0e991c80457"
      },
      "execution_count": null,
      "outputs": [
        {
          "output_type": "stream",
          "name": "stdout",
          "text": [
            "['This', 'is', 'the', 'first', 'sentence', 'However', 'some', 'of', 'the', 'Ph.D.', 'students', 'are', 'working', 'with', 'some', 'researcher', 'under', 'Dr.s', 'and', 'Scientists']\n",
            "\n",
            "This is the first sentence However some of the Ph.D. students are working with some researcher under Dr.s and Scientists\n"
          ]
        }
      ]
    },
    {
      "cell_type": "code",
      "source": [],
      "metadata": {
        "id": "r1X29UyA83Uc"
      },
      "execution_count": null,
      "outputs": []
    },
    {
      "cell_type": "markdown",
      "source": [
        "# **Text Normalisation**\n",
        "Text Normalisation is done by stemming and lemmatization\n",
        "1. Stemming - Stemming is the process of reducing a word to its stem called as lema but its drawback is it produces the root word which may not always have meaning. We do stemming or lemmatization because same meaning words should be assigned same number so that machine also understands them to be same. Stemming is only available in nltk not in spacy."
      ],
      "metadata": {
        "id": "VEFTcadc-Lkm"
      }
    },
    {
      "cell_type": "code",
      "source": [
        "from nltk.corpus import stopwords\n",
        "from nltk.tokenize import word_tokenize\n",
        "from nltk.stem import PorterStemmer\n",
        "text = \"\"\"This is the first sentence.\n",
        "However, some of the Ph.D. students are working with some\n",
        "researcher under Dr. and Scientists.\"\"\"\n",
        "stopwords = set(stopwords.words('english'))\n",
        "tokens = word_tokenize(text2)\n",
        "filtered_sentence = []\n",
        "for w in tokens:\n",
        "  if w not in stopwords:\n",
        "    filtered_sentence.append(w)\n",
        "without_punc=[w for w in tokens if w not in punc]\n",
        "stemmer = PorterStemmer()\n",
        "stemmed_sentence=[]\n",
        "for w in without_punc:\n",
        "  stemmed_sentence.append(stemmer.stem(w))\n",
        "print(tokens)\n",
        "print(stemmed_sentence)"
      ],
      "metadata": {
        "colab": {
          "base_uri": "https://localhost:8080/"
        },
        "id": "ZEUc87Rs83Yu",
        "outputId": "97cff67f-4c34-4c55-9a17-e08bb65c30c9"
      },
      "execution_count": null,
      "outputs": [
        {
          "output_type": "stream",
          "name": "stdout",
          "text": [
            "['This', 'is', 'the', 'first', 'sentence', '.', 'However', ',', 'some', 'of', 'the', 'Ph.D.', 'students', 'are', 'working', 'with', 'some', 'researcher', 'under', 'Dr.s', 'and', 'Scientists', '.']\n",
            "['thi', 'is', 'the', 'first', 'sentenc', 'howev', 'some', 'of', 'the', 'ph.d.', 'student', 'are', 'work', 'with', 'some', 'research', 'under', 'dr.', 'and', 'scientist']\n"
          ]
        }
      ]
    },
    {
      "cell_type": "markdown",
      "source": [
        "# **Lemmatization**\n",
        "Lemmatization is a process that reduces words to their root form or lemma. Therefore it gives more meaningful words again it depends on the use case wheather to use stemming or lemmatization.\n"
      ],
      "metadata": {
        "id": "8uEXbhxqBvl1"
      }
    },
    {
      "cell_type": "code",
      "source": [
        "from nltk.corpus import stopwords\n",
        "from nltk.tokenize import word_tokenize\n",
        "from nltk.stem import WordNetLemmatizer\n",
        "text2 = \"\"\"This is the first sentence.\n",
        "However, some of the Ph.D. students are working with some\n",
        "researcher under Dr. and Scientists.\"\"\"\n",
        "stopwords = set(stopwords.words('english'))\n",
        "tokens = word_tokenize(text2)\n",
        "filtered_sentence = []\n",
        "for w in tokens:\n",
        "  if w not in stopwords:\n",
        "    filtered_sentence.append(w)\n",
        "without_punc=[w for w in filtered_sentence if w not in punc]\n",
        "lemma_word=[]\n",
        "word_net = WordNetLemmatizer()\n",
        "for w in without_punc:\n",
        "  lemma_word.append(word_net.lemmatize(w))\n",
        "print(tokens)\n",
        "print(lemma_word)"
      ],
      "metadata": {
        "colab": {
          "base_uri": "https://localhost:8080/"
        },
        "id": "FFgwUzhm83b4",
        "outputId": "d3f6532f-729a-45bc-cb1b-0c2e8d07ad9d"
      },
      "execution_count": null,
      "outputs": [
        {
          "output_type": "stream",
          "name": "stdout",
          "text": [
            "['This', 'is', 'the', 'first', 'sentence', '.', 'However', ',', 'some', 'of', 'the', 'Ph.D.', 'students', 'are', 'working', 'with', 'some', 'researcher', 'under', 'Dr.', 'and', 'Scientists', '.']\n",
            "['This', 'first', 'sentence', 'However', 'Ph.D.', 'student', 'working', 'researcher', 'Dr.', 'Scientists']\n"
          ]
        }
      ]
    },
    {
      "cell_type": "code",
      "source": [
        "words=['study','studying','studied']\n",
        "word_net = WordNetLemmatizer()\n",
        "lemma_verb = [word_net.lemmatize(w,pos=\"v\") for w in words]\n",
        "lemma_noun = [word_net.lemmatize(w,pos=\"n\") for w in words]\n",
        "lemma_adj = [word_net.lemmatize(w,pos=\"a\") for w in words]\n",
        "print(lemma_verb)\n",
        "print(lemma_noun)\n",
        "print(lemma_adj)"
      ],
      "metadata": {
        "colab": {
          "base_uri": "https://localhost:8080/"
        },
        "id": "253HAwTvD86r",
        "outputId": "63d77833-3c5f-4a84-c019-2cf6d28008a6"
      },
      "execution_count": null,
      "outputs": [
        {
          "output_type": "stream",
          "name": "stdout",
          "text": [
            "['study', 'study', 'study']\n",
            "['study', 'studying', 'studied']\n",
            "['study', 'studying', 'studied']\n"
          ]
        }
      ]
    },
    {
      "cell_type": "code",
      "source": [
        "words=['running','geese','better']\n",
        "word_net = WordNetLemmatizer()\n",
        "lemma_verb = [word_net.lemmatize(w,pos=\"v\") for w in words]\n",
        "lemma_noun = [word_net.lemmatize(w,pos=\"n\") for w in words]\n",
        "lemma_adj = [word_net.lemmatize(w,pos=\"a\") for w in words]\n",
        "print(lemma_verb)\n",
        "print(lemma_noun)\n",
        "print(lemma_adj)"
      ],
      "metadata": {
        "colab": {
          "base_uri": "https://localhost:8080/"
        },
        "id": "o3t1cVi_EBpv",
        "outputId": "4a796426-a706-4f0c-82e7-8901cfa14c5f"
      },
      "execution_count": null,
      "outputs": [
        {
          "output_type": "stream",
          "name": "stdout",
          "text": [
            "['run', 'geese', 'better']\n",
            "['running', 'goose', 'better']\n",
            "['running', 'geese', 'good']\n"
          ]
        }
      ]
    },
    {
      "cell_type": "markdown",
      "source": [
        "# **3rd Lecture 24th May 2025**"
      ],
      "metadata": {
        "id": "PMGOeiOcdBd9"
      }
    },
    {
      "cell_type": "code",
      "source": [
        "# Lemmatization using Spacy"
      ],
      "metadata": {
        "id": "Ala9N8X6EBwP"
      },
      "execution_count": null,
      "outputs": []
    },
    {
      "cell_type": "code",
      "source": [
        "import spacy\n",
        "import spacy.cli\n",
        "# spacy.cli.download(\"en_core_web_sm\")\n",
        "nlp=spacy.load(\"en_core_web_sm\")\n",
        "text2 = \"\"\"This is the first sentence.\n",
        "However, some of the Ph.D. students are working with some\n",
        "researcher under Dr. and Scientists.\"\"\"\n",
        "doc=nlp(text2)\n",
        "lemma_word=[]\n",
        "for token in doc:\n",
        "  lexeme = nlp.vocab[token.text]\n",
        "  if lexeme.is_stop==False:\n",
        "    lemma_word.append(token.lemma_)\n",
        "print(lemma_word)"
      ],
      "metadata": {
        "colab": {
          "base_uri": "https://localhost:8080/"
        },
        "id": "U074nWRSdMU8",
        "outputId": "741aba67-3330-4b55-d704-e00a4b7eb581"
      },
      "execution_count": null,
      "outputs": [
        {
          "output_type": "stream",
          "name": "stdout",
          "text": [
            "['sentence', '.', '\\n', ',', 'ph.d.', 'student', 'work', '\\n', 'researcher', 'Dr.', 'Scientists', '.']\n"
          ]
        }
      ]
    },
    {
      "cell_type": "code",
      "source": [
        "words=['study','studying','studied']\n",
        "nlp=spacy.load(\"en_core_web_sm\")\n",
        "lemmas=[nlp(word)[0].lemma_ for word in words]\n",
        "print(lemmas)\n",
        "# the nlp(word) processes the string word using a spacy language model like \"en_core_web_sm\" and returns a Doc Object which is\n",
        "# - like a list of tokens even if word is just a single word like \"running\" the nlp(word) returns a Document containing\n",
        "# - a list of tokens. 0th index is written because we want the 1st and only token from processed Doc so that we can access its lemma\n"
      ],
      "metadata": {
        "colab": {
          "base_uri": "https://localhost:8080/"
        },
        "id": "1wTvpnqfeXGK",
        "outputId": "7ae47041-1071-43e4-cb0f-ccda39103b0d"
      },
      "execution_count": null,
      "outputs": [
        {
          "output_type": "stream",
          "name": "stdout",
          "text": [
            "['study', 'study', 'study']\n"
          ]
        }
      ]
    },
    {
      "cell_type": "code",
      "source": [
        "word=\"studying\"\n",
        "doc=nlp(word)\n",
        "print(doc) # returns a container of token called as doc\n",
        "print(doc[0]) # 0 gets the 1st token\n",
        "print(doc[0].lemma_)"
      ],
      "metadata": {
        "colab": {
          "base_uri": "https://localhost:8080/"
        },
        "id": "fdJk7okiifR6",
        "outputId": "76c824c4-e66f-49f2-a02f-fedcb6aa6e52"
      },
      "execution_count": null,
      "outputs": [
        {
          "output_type": "stream",
          "name": "stdout",
          "text": [
            "studying\n",
            "studying\n",
            "study\n"
          ]
        }
      ]
    },
    {
      "cell_type": "code",
      "source": [
        "words=['running','geese','better']\n",
        "nlp=spacy.load(\"en_core_web_sm\")\n",
        "lemmas = [nlp(word)[0].lemma_ for word in words]\n",
        "print(lemmas)"
      ],
      "metadata": {
        "colab": {
          "base_uri": "https://localhost:8080/"
        },
        "id": "PEVtuJ3Jf6H6",
        "outputId": "e2b45b3d-e372-4380-d09f-37b713651787"
      },
      "execution_count": null,
      "outputs": [
        {
          "output_type": "stream",
          "name": "stdout",
          "text": [
            "['run', 'geese', 'well']\n"
          ]
        }
      ]
    },
    {
      "cell_type": "markdown",
      "source": [
        "**POS -- Parts of Speech Tagging -- Sometimes we want to fetch tokens based on parts of speech so POS tagging is done to tag the tokens of their parts of speech. This we can do the help of nltk POS tag**"
      ],
      "metadata": {
        "id": "8EB0ug2yjypx"
      }
    },
    {
      "cell_type": "code",
      "source": [
        "import nltk\n",
        "nltk.download(\"averaged_perceptron_tagger\")\n",
        "nltk.download(\"punkt\")\n",
        "from nltk import pos_tag\n",
        "nltk.download(\"averaged_perceptron_tagger_eng\")"
      ],
      "metadata": {
        "colab": {
          "base_uri": "https://localhost:8080/"
        },
        "id": "D-Vuur6bkXe2",
        "outputId": "1fcc8f57-eaf4-4807-af72-c6fa581985d8"
      },
      "execution_count": null,
      "outputs": [
        {
          "output_type": "stream",
          "name": "stderr",
          "text": [
            "[nltk_data] Downloading package averaged_perceptron_tagger to\n",
            "[nltk_data]     /root/nltk_data...\n",
            "[nltk_data]   Unzipping taggers/averaged_perceptron_tagger.zip.\n",
            "[nltk_data] Downloading package punkt to /root/nltk_data...\n",
            "[nltk_data]   Package punkt is already up-to-date!\n",
            "[nltk_data] Downloading package averaged_perceptron_tagger_eng to\n",
            "[nltk_data]     /root/nltk_data...\n",
            "[nltk_data]   Unzipping taggers/averaged_perceptron_tagger_eng.zip.\n"
          ]
        },
        {
          "output_type": "execute_result",
          "data": {
            "text/plain": [
              "True"
            ]
          },
          "metadata": {},
          "execution_count": 41
        }
      ]
    },
    {
      "cell_type": "code",
      "source": [
        "text2 = \"\"\"This is the first sentence.\n",
        "However, some of the Ph.D. students are working with some\n",
        "researcher under Dr. and Scientists.\"\"\"\n",
        "tokens = word_tokenize(text2)\n",
        "pos_tagged=pos_tag(tokens)\n",
        "for word in pos_tagged:\n",
        "  print(word)\n"
      ],
      "metadata": {
        "colab": {
          "base_uri": "https://localhost:8080/"
        },
        "id": "JF3TiYdrkgQG",
        "outputId": "1e69531c-17a5-4c41-a823-a7ba38fb1e28"
      },
      "execution_count": null,
      "outputs": [
        {
          "output_type": "stream",
          "name": "stdout",
          "text": [
            "('This', 'DT')\n",
            "('is', 'VBZ')\n",
            "('the', 'DT')\n",
            "('first', 'JJ')\n",
            "('sentence', 'NN')\n",
            "('.', '.')\n",
            "('However', 'RB')\n",
            "(',', ',')\n",
            "('some', 'DT')\n",
            "('of', 'IN')\n",
            "('the', 'DT')\n",
            "('Ph.D.', 'NNP')\n",
            "('students', 'NNS')\n",
            "('are', 'VBP')\n",
            "('working', 'VBG')\n",
            "('with', 'IN')\n",
            "('some', 'DT')\n",
            "('researcher', 'NN')\n",
            "('under', 'IN')\n",
            "('Dr.', 'NNP')\n",
            "('and', 'CC')\n",
            "('Scientists', 'NNP')\n",
            "('.', '.')\n"
          ]
        }
      ]
    },
    {
      "cell_type": "markdown",
      "source": [
        "**spacy**"
      ],
      "metadata": {
        "id": "e2MQsGepmgqP"
      }
    },
    {
      "cell_type": "code",
      "source": [
        "import spacy\n",
        "nlp=spacy.load(\"en_core_web_sm\")\n",
        "text2 = \"\"\"This is the first sentence.\n",
        "However, some of the Ph.D. students are working with some\n",
        "researcher under Dr. and Scientists.\"\"\"\n",
        "doc=nlp(text2)\n",
        "for token in doc:\n",
        "  print(f\"{token.text} : {token.pos_}\")\n"
      ],
      "metadata": {
        "colab": {
          "base_uri": "https://localhost:8080/"
        },
        "id": "A0lrbs7ek_mt",
        "outputId": "f0939fdd-cc8a-4e05-b41a-b52aa7fca24b"
      },
      "execution_count": null,
      "outputs": [
        {
          "output_type": "stream",
          "name": "stdout",
          "text": [
            "This : PRON\n",
            "is : AUX\n",
            "the : DET\n",
            "first : ADJ\n",
            "sentence : NOUN\n",
            ". : PUNCT\n",
            "\n",
            " : SPACE\n",
            "However : ADV\n",
            ", : PUNCT\n",
            "some : PRON\n",
            "of : ADP\n",
            "the : DET\n",
            "Ph.D. : NOUN\n",
            "students : NOUN\n",
            "are : AUX\n",
            "working : VERB\n",
            "with : ADP\n",
            "some : DET\n",
            "\n",
            " : SPACE\n",
            "researcher : NOUN\n",
            "under : ADP\n",
            "Dr. : PROPN\n",
            "and : CCONJ\n",
            "Scientists : PROPN\n",
            ". : PUNCT\n"
          ]
        }
      ]
    },
    {
      "cell_type": "markdown",
      "source": [
        "**Named Entity Recognition or NER is a subtask of NLP that focuses on identifying and classifying entities within textual data. These entities encompass a diversed range of information including names of individual, organizations, locations, dates and more. It is a subtask of information extraction aims to locate and classify named entities mentioned in unstructured text into predefined categories such as person name organization, location, medical quote, quantities monetary values etc. NER is done with spacy, nltk also has support for this but you will have to download many dependencies working for the same.**"
      ],
      "metadata": {
        "id": "l91iefw_nxRH"
      }
    },
    {
      "cell_type": "code",
      "source": [
        "#NER is done with spacy\n",
        "import spacy\n",
        "nlp=spacy.load(\"en_core_web_sm\")\n",
        "text2 = \"\"\"This is the first sentence.\n",
        "However, some of the Ph.D. students are working with some\n",
        "researcher under Dr.s and Scientists.\"\"\"\n",
        "doc=nlp(text2)\n",
        "print(doc.ents)\n",
        "{(ent.text.strip(),ent.label_) for ent in nlp(doc).ents}"
      ],
      "metadata": {
        "colab": {
          "base_uri": "https://localhost:8080/"
        },
        "id": "7ck2EjT0nFTV",
        "outputId": "0a65a92b-f5a0-4f4c-aa36-811cdbb127ba"
      },
      "execution_count": null,
      "outputs": [
        {
          "output_type": "stream",
          "name": "stdout",
          "text": [
            "(first, Ph.D., Scientists)\n"
          ]
        },
        {
          "output_type": "execute_result",
          "data": {
            "text/plain": [
              "{('Ph.D.', 'WORK_OF_ART'), ('Scientists', 'NORP'), ('first', 'ORDINAL')}"
            ]
          },
          "metadata": {},
          "execution_count": 44
        }
      ]
    },
    {
      "cell_type": "markdown",
      "source": [
        "**Word Cloud - A python word cloud or tag cloud is a visualisation technique commonly used to display tags or keywords from websites. These single words reflect the text, context & are clustered together in wordcloud. Words in the cloud vary in fontsize and colour indicating there prominence. Larger fontsize implies higher importance relative to other words. Here the number of words to put are very important, too many can make it difficult to read and looks cluttered. They also tell that these words hold more weighted meaning in the sentence or paragraph**"
      ],
      "metadata": {
        "id": "35Gm-7ZNq8A1"
      }
    },
    {
      "cell_type": "code",
      "source": [
        "from wordcloud import WordCloud\n",
        "import matplotlib.pyplot as plt\n"
      ],
      "metadata": {
        "id": "H0NUFii5p5Fz"
      },
      "execution_count": null,
      "outputs": []
    },
    {
      "cell_type": "code",
      "source": [
        "text2 = \"\"\"This is the first sentence.\n",
        "However, some of the Ph.D. students are working with some\n",
        "researcher under Dr.s and Scientists.\"\"\"\n",
        "wc=WordCloud(width=1000,height=500,background_color=\"white\").generate(text2)\n",
        "plt.figure(figsize=(8,8))\n",
        "plt.imshow(wc)\n",
        "plt.axis(\"off\")\n",
        "plt.show()"
      ],
      "metadata": {
        "colab": {
          "base_uri": "https://localhost:8080/",
          "height": 346
        },
        "id": "dUcTKuAdsO9k",
        "outputId": "9a0e7e67-4838-4711-c46a-461345c1bc25"
      },
      "execution_count": null,
      "outputs": [
        {
          "output_type": "display_data",
          "data": {
            "text/plain": [
              "<Figure size 800x800 with 1 Axes>"
            ],
            "image/png": "[encoded data removed]"
          },
          "metadata": {}
        }
      ]
    },
    {
      "cell_type": "markdown",
      "source": [
        "**Vectorization -- There are two types of vectorization, bag of words i.e CountVectorizer & tfidf i.e term frequency-inverse document frequency vectorizer. So in vectorization step we are converting text into numbers.**\n",
        "\n",
        "**Count Vectorizer (Bag of Words) -- The Bag of Words Model converts text into fixed length vectors by counting how many times each word appears in the document.**\n",
        "\n",
        "**Steps - first do tokenization, take out the unique tokens then create a matrix or table or dataframe with document in each row & token in column.**\n",
        "\n",
        "This is a short eg to understand--\n",
        "corpus=[\"Text preprocessing is necessary\",\n",
        "\"Text preprocessing is necessary and important\",\n",
        "\"Text preprocessing is easy\"]\n",
        "\n",
        "=> **Text preprocessing is necessary and important easy**\n",
        "\n",
        "[1  1  1  1  0  0  0]\n",
        "\n",
        "[1  1  1  1  1  1  0]\n",
        "\n",
        "[1  1  1  0  0  0  1]"
      ],
      "metadata": {
        "id": "K8XCWYOitUDz"
      }
    },
    {
      "cell_type": "code",
      "source": [
        "from sklearn.feature_extraction.text import CountVectorizer\n",
        "corpus = [\"Text preprocessing is necessary\",\n",
        "\"Text preprocessing is necessary and important\",\n",
        "\"Text preprocessing is easy\"]\n",
        "vectorizer = CountVectorizer()\n",
        "X = vectorizer.fit_transform(corpus)\n",
        "print(X)\n",
        "print(vectorizer.get_feature_names_out())\n",
        "print(X.toarray())"
      ],
      "metadata": {
        "colab": {
          "base_uri": "https://localhost:8080/"
        },
        "id": "LqNxdLZxsxYp",
        "outputId": "966f1703-0762-4dd9-e4ce-12c8d999ff2c"
      },
      "execution_count": null,
      "outputs": [
        {
          "output_type": "stream",
          "name": "stdout",
          "text": [
            "<Compressed Sparse Row sparse matrix of dtype 'int64'\n",
            "\twith 14 stored elements and shape (3, 7)>\n",
            "  Coords\tValues\n",
            "  (0, 6)\t1\n",
            "  (0, 5)\t1\n",
            "  (0, 3)\t1\n",
            "  (0, 4)\t1\n",
            "  (1, 6)\t1\n",
            "  (1, 5)\t1\n",
            "  (1, 3)\t1\n",
            "  (1, 4)\t1\n",
            "  (1, 0)\t1\n",
            "  (1, 2)\t1\n",
            "  (2, 6)\t1\n",
            "  (2, 5)\t1\n",
            "  (2, 3)\t1\n",
            "  (2, 1)\t1\n",
            "['and' 'easy' 'important' 'is' 'necessary' 'preprocessing' 'text']\n",
            "[[0 0 0 1 1 1 1]\n",
            " [1 0 1 1 1 1 1]\n",
            " [0 1 0 1 0 1 1]]\n"
          ]
        }
      ]
    },
    {
      "cell_type": "code",
      "source": [],
      "metadata": {
        "id": "VfsyVkHXxfV-"
      },
      "execution_count": null,
      "outputs": []
    },
    {
      "cell_type": "markdown",
      "source": [
        "# **14th June 2025 Saturday**"
      ],
      "metadata": {
        "id": "Oqs4bVs2pQ-1"
      }
    },
    {
      "cell_type": "markdown",
      "source": [
        "**Term frequency inverse document frequency works by proportionally increasing the no. of times a word appears in the document but it is counterbalanced by the no. of documents in which it is present. For eg. words like this, are etc are commonly present in all the documents but are not given a higher rank. However a word that is present too many times in few of the documents will be given higher rank as it might be indicative of the context of the document. Term Frequency is defined as the number of times a word appears in a document divided by total number of words in the document**\n",
        "\n",
        "\n",
        "**Inverse Document Frequency**\n",
        "**It refers to the log of the total number of documents divided by the number of documents that contain the word.\n",
        "\n",
        "**The logarithm is added to dampen the importance of a very high value of IDF**"
      ],
      "metadata": {
        "id": "wNgXIdaTpfLm"
      }
    },
    {
      "cell_type": "code",
      "source": [
        "from sklearn.feature_extraction.text import TfidfVectorizer\n",
        "corpus = [\"Text Preprocessing is necessary\",\"Text Preprocessing is necessary and importrant\", \"Text Preprocessing is easy\"]\n",
        "vectorizer = TfidfVectorizer()\n",
        "X = vectorizer.fit_transform(corpus)\n",
        "print(X)\n",
        "print(vectorizer.get_feature_names_out())\n",
        "print(X.toarray())"
      ],
      "metadata": {
        "id": "2vDm-U5rxbsm",
        "colab": {
          "base_uri": "https://localhost:8080/"
        },
        "outputId": "1ae35e02-ff82-4f4a-ffd8-f29c78fa407c"
      },
      "execution_count": null,
      "outputs": [
        {
          "output_type": "stream",
          "name": "stdout",
          "text": [
            "<Compressed Sparse Row sparse matrix of dtype 'float64'\n",
            "\twith 14 stored elements and shape (3, 7)>\n",
            "  Coords\tValues\n",
            "  (0, 6)\t0.4633342717458061\n",
            "  (0, 5)\t0.4633342717458061\n",
            "  (0, 3)\t0.4633342717458061\n",
            "  (0, 4)\t0.5966272352795762\n",
            "  (1, 6)\t0.31021184318121237\n",
            "  (1, 5)\t0.31021184318121237\n",
            "  (1, 3)\t0.31021184318121237\n",
            "  (1, 4)\t0.39945422912667033\n",
            "  (1, 0)\t0.5252343076585736\n",
            "  (1, 2)\t0.5252343076585736\n",
            "  (2, 6)\t0.4128585720620119\n",
            "  (2, 5)\t0.4128585720620119\n",
            "  (2, 3)\t0.4128585720620119\n",
            "  (2, 1)\t0.6990303272568005\n",
            "['and' 'easy' 'importrant' 'is' 'necessary' 'preprocessing' 'text']\n",
            "[[0.         0.         0.         0.46333427 0.59662724 0.46333427\n",
            "  0.46333427]\n",
            " [0.52523431 0.         0.52523431 0.31021184 0.39945423 0.31021184\n",
            "  0.31021184]\n",
            " [0.         0.69903033 0.         0.41285857 0.         0.41285857\n",
            "  0.41285857]]\n"
          ]
        }
      ]
    },
    {
      "cell_type": "markdown",
      "source": [
        "The limitation of tfidf is agin that this vectorization does not help in bringing in the contextual meaning of the word as it is just based on the frequency of the word. So now a days **word2vec** is used instead of TFIDF or BagOfWords"
      ],
      "metadata": {
        "id": "k13sRDwbzN6L"
      }
    },
    {
      "cell_type": "code",
      "source": [],
      "metadata": {
        "id": "ug9OmWBKzxdG"
      },
      "execution_count": null,
      "outputs": []
    }
  ]
}